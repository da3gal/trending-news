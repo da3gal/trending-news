{
 "cells": [
  {
   "cell_type": "code",
   "execution_count": null,
   "metadata": {},
   "outputs": [
    {
     "name": "stdout",
     "output_type": "stream",
     "text": [
      "Mengambil data dari https://www.tempo.co ...\n",
      "\n",
      "--- ARTIKEL TRENDING SAAT INI DI TEMPO.CO (ditemukan 4 artikel di list) ---\n",
      "\n",
      "1. Judul: \"Mengapa Ekonomi Kurban Tahun Ini Lesu?\"\n",
      "   Link: https://www.tempo.co/ekonomi/ekonomi-kurban-lesu-1651884\n",
      "\n",
      "2. Judul: \"Apa Sebab Banyak Sarjana Sulit Mendapat Pekerjaan\"\n",
      "   Link: https://www.tempo.co/politik/sarjana-pengangguran-sulit-mendapat-pekerjaaan-1964255\n",
      "\n",
      "3. Judul: \"Mungkinkah Konfrontasi Indonesia dengan Negara Jiran Terulang\"\n",
      "   Link: https://www.tempo.co/politik/sejarah-konfrontasi-indonesia-1865012\n",
      "\n",
      "4. Judul: \"Bisakah Suntikan Modal Danantara Menyegarkan Kembali Garuda\"\n",
      "   Link: https://www.tempo.co/ekonomi/modal-danantara-garuda-indonesia-1895255\n",
      "\n"
     ]
    }
   ],
   "source": [
    "import requests\n",
    "from bs4 import BeautifulSoup\n",
    "\n",
    "url = 'https://www.tempo.co'\n",
    "\n",
    "print(f\"Mengambil data dari {url} ...\")\n",
    "\n",
    "try:\n",
    "    response = requests.get(url)\n",
    "    response.raise_for_status()\n",
    "\n",
    "    soup = BeautifulSoup(response.text, 'html.parser')\n",
    "\n",
    "    trending_header = soup.find('span', string='ARTIKEL TRENDING')\n",
    "\n",
    "    if trending_header:\n",
    "        main_container = trending_header.find_parent('div', class_='flex-col')\n",
    "        articles = main_container.find_all('figure')\n",
    "        \n",
    "        print(f\"\\n--- ARTIKEL TRENDING SAAT INI DI TEMPO.CO (ditemukan {len(articles)-1} artikel di list) ---\\n\")\n",
    "        \n",
    "        for index, article in enumerate(articles[1:], 1):\n",
    "            figcaption = article.find('figcaption')\n",
    "            \n",
    "            if figcaption:\n",
    "                link_element = figcaption.find('a')\n",
    "                \n",
    "                if link_element:\n",
    "                    title = link_element.get_text(strip=True)\n",
    "                    \n",
    "                    link_url = link_element.get('href', '')\n",
    "                    \n",
    "                    full_link = url + link_url if link_url.startswith('/') else link_url\n",
    "\n",
    "                    print(f'{index}. Judul: \"{title}\"')\n",
    "                    print(f\"   Link: {full_link}\\n\")\n",
    "\n",
    "    else:\n",
    "        print(\"Tidak dapat menemukan kotak 'ARTIKEL TRENDING'. Struktur halaman mungkin telah berubah.\")\n",
    "\n",
    "except requests.exceptions.RequestException as e:\n",
    "    print(f\"Gagal terhubung ke situs: {e}\")"
   ]
  }
 ],
 "metadata": {
  "kernelspec": {
   "display_name": "python-stable",
   "language": "python",
   "name": "python3"
  },
  "language_info": {
   "codemirror_mode": {
    "name": "ipython",
    "version": 3
   },
   "file_extension": ".py",
   "mimetype": "text/x-python",
   "name": "python",
   "nbconvert_exporter": "python",
   "pygments_lexer": "ipython3",
   "version": "3.13.2"
  }
 },
 "nbformat": 4,
 "nbformat_minor": 2
}
